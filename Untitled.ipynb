{
 "cells": [
  {
   "cell_type": "code",
   "execution_count": 18,
   "id": "dc69ed3e",
   "metadata": {},
   "outputs": [],
   "source": [
    "import table_unit as tu"
   ]
  },
  {
   "cell_type": "code",
   "execution_count": 19,
   "id": "df36f9b1",
   "metadata": {},
   "outputs": [
    {
     "ename": "AttributeError",
     "evalue": "module 'table_unit' has no attribute 'TableUnit'",
     "output_type": "error",
     "traceback": [
      "\u001b[0;31m---------------------------------------------------------------------------\u001b[0m",
      "\u001b[0;31mAttributeError\u001b[0m                            Traceback (most recent call last)",
      "\u001b[0;32m<ipython-input-19-4d4c3c9fa494>\u001b[0m in \u001b[0;36m<module>\u001b[0;34m\u001b[0m\n\u001b[0;32m----> 1\u001b[0;31m \u001b[0mt\u001b[0m \u001b[0;34m=\u001b[0m \u001b[0mtu\u001b[0m\u001b[0;34m.\u001b[0m\u001b[0mTableUnit\u001b[0m\u001b[0;34m(\u001b[0m\u001b[0;34m'table1'\u001b[0m\u001b[0;34m)\u001b[0m\u001b[0;34m\u001b[0m\u001b[0;34m\u001b[0m\u001b[0m\n\u001b[0m",
      "\u001b[0;31mAttributeError\u001b[0m: module 'table_unit' has no attribute 'TableUnit'"
     ]
    }
   ],
   "source": [
    "t = tu.TableUnit('table1')"
   ]
  },
  {
   "cell_type": "code",
   "execution_count": null,
   "id": "1867791a",
   "metadata": {},
   "outputs": [],
   "source": []
  }
 ],
 "metadata": {
  "kernelspec": {
   "display_name": "Python 3",
   "language": "python",
   "name": "python3"
  },
  "language_info": {
   "codemirror_mode": {
    "name": "ipython",
    "version": 3
   },
   "file_extension": ".py",
   "mimetype": "text/x-python",
   "name": "python",
   "nbconvert_exporter": "python",
   "pygments_lexer": "ipython3",
   "version": "3.7.10"
  }
 },
 "nbformat": 4,
 "nbformat_minor": 5
}
